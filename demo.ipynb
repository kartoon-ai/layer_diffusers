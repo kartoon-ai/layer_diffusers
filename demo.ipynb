{
 "cells": [
  {
   "cell_type": "markdown",
   "id": "7b2c91d6-31ef-428c-827c-c5496dd6fdb9",
   "metadata": {},
   "source": [
    "## Imports and setup"
   ]
  },
  {
   "cell_type": "code",
   "execution_count": null,
   "id": "a9e07afa-a3ec-446b-98b0-1bb375d105ed",
   "metadata": {},
   "outputs": [],
   "source": [
    "import os\n",
    "\n",
    "\n",
    "from IPython.display import display\n",
    "from PIL import Image\n",
    "import torch\n",
    "\n",
    "import diffusers\n",
    "from diffusers import StableDiffusionXLPipeline\n",
    "\n",
    "from layer_diffusers.utils import get_torch_device, load_file_from_url, load_torch_file, tensor_to_numpy_img\n",
    "from layer_diffusers.transparency_manager import TransparencyManager\n",
    "\n",
    "def create_image_grid(images, cols=None, rows=1):\n",
    "    if not isinstance(images, list) or len(images) == 0:\n",
    "        return None\n",
    "        \n",
    "    if cols is None:\n",
    "        cols = len(images)\n",
    "    if len(images) != cols * rows:\n",
    "        raise ValueError(\"Number of images does not match grid size\")\n",
    "\n",
    "    image_width, image_height = images[0].size\n",
    "\n",
    "    grid_width = cols * image_width\n",
    "    grid_height = rows * image_height\n",
    "    grid_image = Image.new('RGB', (grid_width, grid_height))\n",
    "\n",
    "    # Paste each image into the grid\n",
    "    for i, image in enumerate(images):\n",
    "        row = i // cols\n",
    "        col = i % cols\n",
    "        grid_image.paste(image, (col * image_width, row * image_height))\n",
    "\n",
    "    return grid_image\n",
    "\n",
    "print(f\"using diffusers version {diffusers.__version__}\")"
   ]
  },
  {
   "cell_type": "markdown",
   "id": "42b07e3b-a899-4a80-bb1c-7048753bb2d3",
   "metadata": {},
   "source": [
    "## Settings"
   ]
  },
  {
   "cell_type": "code",
   "execution_count": null,
   "id": "f7f2092a-549e-4b58-b4f8-63293337a80a",
   "metadata": {},
   "outputs": [],
   "source": [
    "device = get_torch_device()\n",
    "SEED = 123\n",
    "gen = torch.Generator().manual_seed(SEED)\n",
    "\n",
    "model_name = \"RunDiffusion/Juggernaut-XL-v9\"\n",
    "\n",
    "\n",
    "prompts = [\n",
    "    \"a glass bottle, high quality\",\n",
    "    \"a woman with messy hair\",\n",
    "    \"a teenage boy with messy hair\",\n",
    "    \"an octopus with many tentacles\",\n",
    "]\n",
    "prompt_append = \", best quality\"\n",
    "lora_weight = 1."
   ]
  },
  {
   "cell_type": "markdown",
   "source": [
    "## Instantiate pipe and transparency manager"
   ],
   "metadata": {
    "collapsed": false
   },
   "id": "b88e45d38d37963c"
  },
  {
   "cell_type": "code",
   "outputs": [],
   "source": [
    "pipe = StableDiffusionXLPipeline.from_pretrained(model_name, torch_dtype=torch.float16, variant=\"fp16\", use_safetensors=True,).to(device)\n",
    "\n",
    "try:\n",
    "    import xformers\n",
    "    pipe.enable_vae_tiling()\n",
    "    pipe.enable_vae_slicing()\n",
    "    pipe.enable_xformers_memory_efficient_attention()\n",
    "    print(\"xformers is installed\")\n",
    "except ImportError:\n",
    "    print(\"xformers is not installed, skipping some optimization\")\n",
    "\n",
    "transparency_manager = TransparencyManager(pipe, lora_weight)\n",
    "transparency_manager.patch_pipe()"
   ],
   "metadata": {
    "collapsed": false
   },
   "id": "c58761afc8d63627",
   "execution_count": null
  },
  {
   "cell_type": "markdown",
   "id": "f4fb300e-491c-41d6-9e4c-199f8fc9729e",
   "metadata": {},
   "source": [
    "## Run generation"
   ]
  },
  {
   "cell_type": "code",
   "execution_count": null,
   "id": "4b8d6b5d-9648-4173-802d-d7ccf2002386",
   "metadata": {
    "scrolled": true
   },
   "outputs": [],
   "source": [
    "alpha_output_images = []\n",
    "final_output_images = []\n",
    "simple_pixel_output_images = []\n",
    "checkerboard_output_images = []\n",
    "\n",
    "for prompt in prompts:\n",
    "    prompt += prompt_append\n",
    "    print(prompt)\n",
    "    images = pipe(prompt=prompt, negative_prompt=\"bad, ugly\", num_inference_steps=20,\n",
    "                  width=1024, height=1024, generator=gen).images\n",
    "    \n",
    "    pixels, pixels_rgb, alpha, checkerboard_image = transparency_manager.post_process_transparency()\n",
    "    \n",
    "    simple_pixel_output_images.append(Image.fromarray(tensor_to_numpy_img(pixels)))\n",
    "    final_output_images.append(Image.fromarray(tensor_to_numpy_img(pixels_rgb)))\n",
    "    alpha_output_images.append(Image.fromarray(tensor_to_numpy_img(alpha)))\n",
    "    checkerboard_output_images.append(Image.fromarray(tensor_to_numpy_img(checkerboard_image)))"
   ]
  },
  {
   "cell_type": "markdown",
   "source": [
    "## Outputs"
   ],
   "metadata": {
    "collapsed": false
   },
   "id": "2db0046ac8800682"
  },
  {
   "cell_type": "code",
   "execution_count": null,
   "id": "ebe9308e-75c9-4934-ac3e-eaa660d7e9c0",
   "metadata": {},
   "outputs": [],
   "source": [
    "# whether to save to disk\n",
    "save = True\n",
    "output_folder = f\"outputs/{model_name.split('/')[-1].split('.')[0]}\"\n",
    "\n",
    "pairs = [\n",
    "    ('pixels', simple_pixel_output_images),\n",
    "    ('alpha', alpha_output_images),\n",
    "    ('checkerboard', checkerboard_output_images),\n",
    "    ('rgb', final_output_images), # <- RGB is actually not a very interesting output (due to the gaussian blur)\n",
    "]\n",
    "for (s, imlist) in pairs:\n",
    "    print(f'{s}')\n",
    "    display(create_image_grid(imlist))\n",
    "    \n",
    "    if save:\n",
    "        os.makedirs(output_folder, exist_ok=True)\n",
    "        for i in range(len(prompts)):\n",
    "            safe_filename = prompts[i].split(',')[0].replace(' ', '_')\n",
    "            imlist[i].save(f\"{output_folder}/{safe_filename}_{s}.png\")\n",
    "        print(f\"Saved {len(prompts)} images to {output_folder}/xxx_{s}.png\")"
   ]
  }
 ],
 "metadata": {
  "kernelspec": {
   "display_name": "Python 3 (ipykernel)",
   "language": "python",
   "name": "python3"
  },
  "language_info": {
   "codemirror_mode": {
    "name": "ipython",
    "version": 3
   },
   "file_extension": ".py",
   "mimetype": "text/x-python",
   "name": "python",
   "nbconvert_exporter": "python",
   "pygments_lexer": "ipython3",
   "version": "3.10.12"
  }
 },
 "nbformat": 4,
 "nbformat_minor": 5
}
